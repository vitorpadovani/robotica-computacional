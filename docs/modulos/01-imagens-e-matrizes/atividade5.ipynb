{
 "cells": [
  {
   "cell_type": "markdown",
   "metadata": {},
   "source": [
    "# Classes em Python\n",
    "\n",
    "Uma classe em Python é um mecanismo usado para criar novos tipos de objetos definidos pelo usuário, que combinam propriedades e comportamentos específicos. Classes são a estrutura básica do `paradigma de programação orientada a objetos` (POO), que permitem agrupar funções e variáveis relacionadas em um único objeto, facilitando a organização e a modularidade do código.\n",
    "\n",
    "Por exemplo, se quisermos representar um carro em nosso programa, podemos criar uma classe chamada \"Carro\". Esta classe pode ter atributos como \"cor\", \"marca\", \"modelo\", \"ano\" e pode ter métodos como \"acelerar\", \"frear\", \"estacionar\".\n",
    "\n",
    "## Como Usar Classes em Python\n",
    "Vamos começar criando uma classe simples chamada Carro."
   ]
  },
  {
   "cell_type": "code",
   "execution_count": 1,
   "metadata": {},
   "outputs": [],
   "source": [
    "class Carro:\n",
    "    def __init__(self, cor, marca, modelo, ano):\n",
    "        self.cor = cor\n",
    "        self.marca = marca\n",
    "        self.modelo = modelo\n",
    "        self.ano = ano\n",
    "\n",
    "    def acelerar(self):\n",
    "        print(\"O carro está acelerando.\")\n",
    "\n",
    "    def frear(self):\n",
    "        print(\"O carro está freando.\")\n"
   ]
  },
  {
   "cell_type": "markdown",
   "metadata": {},
   "source": [
    "No exemplo acima, __init__ é um método especial, chamado de construtor, que é chamado automaticamente sempre que criamos um novo objeto a partir dessa classe. Ele inicializa os atributos da classe.\n",
    "\n",
    "Os métodos acelerar e frear são comportamentos que o carro pode realizar.\n",
    "\n",
    "Podemos criar uma instância da classe Carro da seguinte forma:"
   ]
  },
  {
   "cell_type": "code",
   "execution_count": 2,
   "metadata": {},
   "outputs": [],
   "source": [
    "Meu_carro = Carro(\"Vermelho\", \"Ferrari\", \"458 Italia\", 2020)"
   ]
  },
  {
   "cell_type": "markdown",
   "metadata": {},
   "source": [
    "Em seguida, podemos usar os métodos e acessar os atributos da seguinte maneira:"
   ]
  },
  {
   "cell_type": "code",
   "execution_count": 3,
   "metadata": {},
   "outputs": [
    {
     "name": "stdout",
     "output_type": "stream",
     "text": [
      "Vermelho\n",
      "O carro está acelerando.\n"
     ]
    }
   ],
   "source": [
    "print(Meu_carro.cor)  # Saída: Vermelho\n",
    "Meu_carro.acelerar()  # Saída: O carro está acelerando."
   ]
  },
  {
   "cell_type": "markdown",
   "metadata": {},
   "source": [
    "## Anotações do tipo de Entrada / Saída de funções no python\n",
    "\n",
    "Vamos mudar o foco por um segundo e falar de funções. As anotações de tipo são uma nova funcionalidade adicionada no Python 3.5 que permite que você indique os tipos de variáveis esperados. As anotações de tipos em Python são apenas dicas e não fazem com que o código gere erros de execução se você passar um tipo diferente do sugerido.\n",
    "\n",
    "A vantagem principal é que isso melhora a legibilidade e a manutenção do código. Mostrando para o programador que tipo de variável é esperado e qual é o tipo de retorno da função."
   ]
  },
  {
   "cell_type": "code",
   "execution_count": 4,
   "metadata": {},
   "outputs": [
    {
     "name": "stdout",
     "output_type": "stream",
     "text": [
      "O resultado da soma é de a + b = 8\n"
     ]
    }
   ],
   "source": [
    "def adicionar(a: int, b: int) -> str:\n",
    "    return f\"O resultado da soma é de a + b = {a + b}\"\n",
    "\n",
    "resultado = adicionar(5, 3)\n",
    "print(resultado)\n"
   ]
  },
  {
   "cell_type": "markdown",
   "metadata": {},
   "source": [
    "## Uso da instância interna da Classe\n",
    "\n",
    "O atributo `self` é uma referência à instância atual da classe e é usado para acessar variáveis e métodos da classe. O `self` é sempre o primeiro parâmetro de qualquer método da classe.\n",
    "\n",
    "Vamos usar a nossa classe Carro como exemplo:"
   ]
  },
  {
   "cell_type": "code",
   "execution_count": 5,
   "metadata": {},
   "outputs": [
    {
     "name": "stdout",
     "output_type": "stream",
     "text": [
      "O 458 Italia está acelerando.\n",
      "O 458 Italia está freando.\n"
     ]
    }
   ],
   "source": [
    "class Carro:\n",
    "    def __init__(self, cor: str, marca: str, modelo: str, ano: int) -> None:\n",
    "        self.cor = cor\n",
    "        self.marca = marca\n",
    "        self.modelo = modelo\n",
    "        self.ano = ano\n",
    "\n",
    "    def acelerar(self) -> None:\n",
    "        print(f'O {self.modelo} está acelerando.')\n",
    "\n",
    "    def frear(self) -> None:\n",
    "        print(f'O {self.modelo} está freando.')\n",
    "\n",
    "Meu_carro = Carro(\"Vermelho\", \"Ferrari\", \"458 Italia\", 2020)\n",
    "Meu_carro.acelerar()\n",
    "Meu_carro.frear()"
   ]
  },
  {
   "cell_type": "markdown",
   "metadata": {},
   "source": [
    "## Decorador @staticmethod\n",
    "\n",
    "Em Python, o decorador @staticmethod é usado para indicar que um método é um método estático, ou seja, um método que pertence à classe, mas não é uma instância da classe. \n",
    "\n",
    "Isso significa que um método estático pode ser chamado sem criar um objeto da classe.\n",
    "\n",
    "Note que o método estático não pode acessar atributos da classe, pela ausência do parâmetro `self`."
   ]
  },
  {
   "cell_type": "code",
   "execution_count": 6,
   "metadata": {},
   "outputs": [
    {
     "name": "stdout",
     "output_type": "stream",
     "text": [
      "4\n"
     ]
    }
   ],
   "source": [
    "class Carro:\n",
    "    def __init__(self, cor: str, marca: str, modelo: str, ano: int) -> None:\n",
    "        self.cor = cor\n",
    "        self.marca = marca\n",
    "        self.modelo = modelo\n",
    "        self.ano = ano\n",
    "\n",
    "    def acelerar(self) -> None:\n",
    "        print(f'O {self.modelo} está acelerando.')\n",
    "\n",
    "    def frear(self) -> None:\n",
    "        print(f'O {self.modelo} está freando.')\n",
    "    \n",
    "    @staticmethod\n",
    "    def numero_de_rodas():\n",
    "        return 4\n",
    "\n",
    "print(Carro.numero_de_rodas())"
   ]
  },
  {
   "cell_type": "markdown",
   "metadata": {},
   "source": [
    "## Parent / Child Classes\n",
    "\n",
    "Em Python, uma classe pode herdar de outra classe. Na nomeclatura de orientação a objetos, a classe que herda é chamada de **filha** e a classe que é herdada é chamada de **pai**. O uso de herança permite que a classe filha tenha todos os atributos e métodos da classe pai, além de poder adicionar, ou modificar os atributos e métodos."
   ]
  },
  {
   "cell_type": "code",
   "execution_count": 8,
   "metadata": {},
   "outputs": [
    {
     "name": "stdout",
     "output_type": "stream",
     "text": [
      "João diz: Olá!\n",
      "Pedro diz: Olá!\n",
      "João diz: Tudo bem?\n",
      "Pedro diz: Tudo certo!\n"
     ]
    }
   ],
   "source": [
    "class Parent:\n",
    "    def __init__(self, nome):\n",
    "        self.nome = nome\n",
    "\n",
    "    def saida1(self):\n",
    "        return f'{self.nome} diz: Olá!'\n",
    "\n",
    "    def saida2(self):\n",
    "        return f'{self.nome} diz: Tudo bem?'\n",
    "\n",
    "class Child(Parent):\n",
    "    def __init__(self, nome):\n",
    "        super().__init__(nome) # chama o construtor da classe pai\n",
    "    def saida2(self):\n",
    "        return f'{self.nome} diz: Tudo certo!'\n",
    "\n",
    "Pai = Parent('João')\n",
    "Filho = Child('Pedro')\n",
    "\n",
    "print(Pai.saida1())\n",
    "print(Filho.saida1())\n",
    "print(Pai.saida2())\n",
    "print(Filho.saida2())\n"
   ]
  },
  {
   "cell_type": "markdown",
   "metadata": {},
   "source": [
    "## Prática\n",
    "\n",
    "**Exercício**: Agora, crie uma classe que receba o caminho de uma imagem, abra a imagem e separa os canais RGB em atributos da classe. A classe deve ter um método que mostre a imagem original e mostre cada canal dependendo do parâmetro passado. Por exemplo, se o parâmetro for `R`, deve mostrar apenas o canal vermelho. Se o parâmetro for `RGB`, deve mostrar a imagem original.\n",
    "\n",
    "**Nota:** Lembre-se que o OpenCV carrega as imagens no formato BGR."
   ]
  }
 ],
 "metadata": {
  "kernelspec": {
   "display_name": "tf2",
   "language": "python",
   "name": "python3"
  },
  "language_info": {
   "codemirror_mode": {
    "name": "ipython",
    "version": 3
   },
   "file_extension": ".py",
   "mimetype": "text/x-python",
   "name": "python",
   "nbconvert_exporter": "python",
   "pygments_lexer": "ipython3",
   "version": "3.8.10"
  },
  "orig_nbformat": 4
 },
 "nbformat": 4,
 "nbformat_minor": 2
}
